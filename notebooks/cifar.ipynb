{
 "cells": [
  {
   "cell_type": "code",
   "execution_count": 1,
   "metadata": {},
   "outputs": [],
   "source": [
    "import os\n",
    "import sys\n",
    "\n",
    "sys.path.append(\"../\")"
   ]
  },
  {
   "cell_type": "code",
   "execution_count": 2,
   "metadata": {},
   "outputs": [],
   "source": [
    "import torch\n",
    "import torchvision\n",
    "from torch import nn\n",
    "from torch.autograd import Function\n",
    "import torchvision.transforms as transforms\n",
    "from PIL import Image\n",
    "import matplotlib.pyplot as plt\n",
    "import numpy as np\n",
    "import ot\n",
    "\n",
    "from src.ml.sinkhorn import SinkhornValue, sinkhorn, pot_sinkhorn"
   ]
  },
  {
   "cell_type": "code",
   "execution_count": 3,
   "metadata": {},
   "outputs": [],
   "source": [
    "batch_size=64"
   ]
  },
  {
   "cell_type": "code",
   "execution_count": 4,
   "metadata": {},
   "outputs": [],
   "source": [
    "class CIFAR10Instance(torchvision.datasets.CIFAR10):\n",
    "    \"\"\"\n",
    "    https://github.com/yukimasano/self-label/blob/581957c2fcb3f14a0382cf71a3d36b21b9943798/cifar_utils.py#L5\n",
    "    \"\"\"\n",
    "    def __init__(self, root, train=True, transform=None, target_transform=None, download=False):\n",
    "        super(CIFAR10Instance, self).__init__(root=root,\n",
    "                                              train=train,\n",
    "                                              transform=transform,\n",
    "                                              target_transform=target_transform)\n",
    "\n",
    "\n",
    "    def __getitem__(self, index):\n",
    "        image, target = self.data[index], self.targets[index]\n",
    "        image = Image.fromarray(image)\n",
    "\n",
    "        if self.transform is not None:\n",
    "            img = self.transform(image)\n",
    "\n",
    "        if self.target_transform is not None:\n",
    "            target = self.target_transform(target)\n",
    "\n",
    "        return img, target, index"
   ]
  },
  {
   "cell_type": "code",
   "execution_count": 5,
   "metadata": {},
   "outputs": [],
   "source": [
    "# Load CIFAR-10\n",
    "transform_train = transforms.Compose(\n",
    "    [\n",
    "        transforms.Resize(256),\n",
    "        transforms.RandomResizedCrop(size=224, scale=(0.2, 1.)),\n",
    "        transforms.ColorJitter(0.4, 0.4, 0.4, 0.4),\n",
    "        transforms.RandomGrayscale(p=0.2),\n",
    "        transforms.RandomHorizontalFlip(),\n",
    "        transforms.ToTensor(),\n",
    "        transforms.Normalize((0.4914, 0.4822, 0.4465), (0.2023, 0.1994, 0.2010))\n",
    "    ]\n",
    ")\n",
    "\n",
    "transform_test = transforms.Compose(\n",
    "    [\n",
    "        transforms.Resize(256),\n",
    "        transforms.RandomResizedCrop(size=224, scale=(0.2, 1.)),\n",
    "        transforms.ToTensor(),\n",
    "        transforms.ToTensor(),\n",
    "        transforms.Normalize((0.4914, 0.4822, 0.4465), (0.2023, 0.1994, 0.2010))\n",
    "    ]\n",
    ")\n",
    "\n",
    "trainset = CIFAR10Instance(\n",
    "    root=\"../data/cifar-10\",\n",
    "    train=True,\n",
    "    download=True,\n",
    "    transform=transform_train\n",
    ")\n",
    "testset = CIFAR10Instance(\n",
    "    root=\"../data/cifar-10\",\n",
    "    train=False,\n",
    "    download=True,\n",
    "    transform=transform_test\n",
    ")\n",
    "trainloader = torch.utils.data.DataLoader(\n",
    "    trainset,\n",
    "    batch_size=batch_size,\n",
    "    shuffle=True,\n",
    "    num_workers=0\n",
    ")\n",
    "testloader = torch.utils.data.DataLoader(\n",
    "    testset,\n",
    "    batch_size=100,\n",
    "    shuffle=True,\n",
    "    num_workers=0\n",
    ")\n",
    "\n",
    "classes = (\n",
    "    \"plane\", \"car\", \"bird\", \"cat\",\n",
    "    \"deer\", \"dog\", \"frog\", \"horse\", \n",
    "    \"ship\", \"truck\"\n",
    ")"
   ]
  },
  {
   "cell_type": "code",
   "execution_count": 8,
   "metadata": {},
   "outputs": [],
   "source": [
    "N = len(trainloader.dataset)\n",
    "K = 128  # number of clusters\n",
    "\n",
    "selflabels = np.zeros(N, dtype=np.int32)\n",
    "\n",
    "for qq in range(N):\n",
    "    selflabels[qq] = qq % K\n",
    "    \n",
    "selflabels = np.random.permutation(selflabels)\n",
    "selflabels = torch.LongTensor(selflabels)"
   ]
  },
  {
   "cell_type": "code",
   "execution_count": null,
   "metadata": {},
   "outputs": [
    {
     "name": "stderr",
     "output_type": "stream",
     "text": [
      "/Users/eric/Code/virtualenvs/data-science/lib/python3.7/site-packages/ot/bregman.py:517: UserWarning: Sinkhorn did not converge. You might want to increase the number of iterations `numItermax` or the regularization parameter `reg`.\n",
      "  warnings.warn(\"Sinkhorn did not converge. You might want to \"\n"
     ]
    },
    {
     "name": "stdout",
     "output_type": "stream",
     "text": [
      "3.850905418395996\n"
     ]
    },
    {
     "name": "stderr",
     "output_type": "stream",
     "text": [
      "/Users/eric/Code/virtualenvs/data-science/lib/python3.7/site-packages/ot/bregman.py:492: UserWarning: Warning: numerical errors at iteration 0\n",
      "  warnings.warn('Warning: numerical errors at iteration %d' % ii)\n"
     ]
    },
    {
     "name": "stdout",
     "output_type": "stream",
     "text": [
      "-0.004397315438836813\n",
      "-0.00782102532684803\n",
      "-0.00782102532684803\n"
     ]
    }
   ],
   "source": [
    "# Load Alexnet model, with output size = K (128)\n",
    "model = torchvision.models.alexnet(pretrained=False, num_classes=K)\n",
    "\n",
    "# ADAM optimizer\n",
    "optimizer = torch.optim.Adam(lr=0.001, params=model.parameters())\n",
    "\n",
    "for epoch in range(30):\n",
    "    epoch_loss = 0\n",
    "    \n",
    "    # loop over minibatches\n",
    "    for batch_idx, (inputs, targets, indexes) in enumerate(trainloader):\n",
    "        # marginals\n",
    "        a = torch.ones(inputs.shape[0]) / inputs.shape[0]  # minibatch size\n",
    "        b = torch.ones(K) / K                              # K clusters (128)\n",
    "\n",
    "        # train mode\n",
    "        model.train()\n",
    "\n",
    "        # set gradients to zero\n",
    "        optimizer.zero_grad()\n",
    "\n",
    "        # compute inputs (images) representations\n",
    "        x = model(inputs)\n",
    "        P = torch.nn.LogSoftmax(dim=1)(x)\n",
    "\n",
    "        # compute softmax probabilities over each cluster ()\n",
    "        M = P # - np.log(inputs.shape[0])\n",
    "\n",
    "        # init Sinkhorn loss\n",
    "        SV = SinkhornValue(\n",
    "           a,\n",
    "           b,\n",
    "           epsilon=0.1,\n",
    "           solver=pot_sinkhorn,\n",
    "           n_iter=10\n",
    "        )\n",
    "\n",
    "        # compute Sinkhorn loss\n",
    "        loss = -SV(M)\n",
    "        \n",
    "        if torch.isnan(loss):\n",
    "            raise Exception()\n",
    "\n",
    "        # compute gradients\n",
    "        loss.backward()\n",
    "\n",
    "        # backpropagation\n",
    "        optimizer.step()\n",
    "\n",
    "        epoch_loss += loss.item()\n",
    "        \n",
    "        break\n",
    "        \n",
    "    print(epoch_loss / (batch_idx+1))"
   ]
  },
  {
   "cell_type": "code",
   "execution_count": 166,
   "metadata": {},
   "outputs": [],
   "source": [
    "M = P - np.log(inputs.shape[0])  # add - M minimum, rescaling\n",
    "v = torch.ones_like(b)\n",
    "K = torch.exp(M / 0.1)\n",
    "\n",
    "# for _ in range(10):\n",
    "    # u = a / torch.matmul(K, v)\n",
    "    # v = b / torch.matmul(torch.transpose(K, 1, 0), u)\n",
    "\n",
    "# uv = torch.outer(u, v)\n",
    "# K * u"
   ]
  },
  {
   "cell_type": "code",
   "execution_count": 167,
   "metadata": {},
   "outputs": [
    {
     "data": {
      "text/plain": [
       "(-233.62417602539062, -4.158905506134033)"
      ]
     },
     "execution_count": 167,
     "metadata": {},
     "output_type": "execute_result"
    }
   ],
   "source": [
    "M.min().item(), M.max().item()"
   ]
  },
  {
   "cell_type": "code",
   "execution_count": 168,
   "metadata": {},
   "outputs": [
    {
     "data": {
      "text/plain": [
       "(0.0, 8.671681260262779e-19)"
      ]
     },
     "execution_count": 168,
     "metadata": {},
     "output_type": "execute_result"
    }
   ],
   "source": [
    "K.min().item(), K.max().item()"
   ]
  },
  {
   "cell_type": "code",
   "execution_count": 169,
   "metadata": {},
   "outputs": [],
   "source": [
    "u = a / torch.matmul(K, v)"
   ]
  },
  {
   "cell_type": "code",
   "execution_count": 170,
   "metadata": {},
   "outputs": [
    {
     "data": {
      "text/plain": [
       "tensor([6.4392e+20, 1.4059e+17, 3.8684e+16, 5.8867e+20, 2.0348e+16, 1.0551e+18,\n",
       "        1.9243e+16, 2.2486e+16, 2.7568e+16, 2.0296e+16, 1.4485e+18, 9.1779e+16,\n",
       "        7.7896e+18, 1.4599e+20, 2.5163e+17, 2.1787e+18, 4.6286e+16, 6.9416e+16,\n",
       "        6.1957e+16, 1.8018e+16, 1.8074e+16, 1.7511e+18, 8.7680e+17, 4.0653e+18,\n",
       "        8.5586e+18, 1.8030e+16, 1.8301e+16, 1.7520e+17, 2.0260e+16, 2.1542e+16,\n",
       "        1.5410e+17, 6.6467e+16, 1.1717e+17, 1.7143e+18, 6.7043e+18, 6.5340e+18,\n",
       "        2.2353e+16, 1.7291e+18, 4.3321e+18, 2.0772e+16, 1.8394e+16, 1.8640e+20,\n",
       "        2.9320e+16, 1.8395e+16, 3.7350e+17, 3.4864e+16, 2.0123e+16, 5.7577e+16,\n",
       "        3.8316e+16, 2.0196e+16, 1.9852e+16, 5.2017e+17, 3.7741e+16, 1.1059e+18,\n",
       "        3.3427e+16, 5.2656e+16, 2.3015e+18, 6.6982e+17, 6.1382e+16, 1.1024e+19,\n",
       "        3.1612e+18, 5.3658e+17, 2.6773e+16, 6.9894e+18],\n",
       "       grad_fn=<DivBackward0>)"
      ]
     },
     "execution_count": 170,
     "metadata": {},
     "output_type": "execute_result"
    }
   ],
   "source": [
    "u"
   ]
  },
  {
   "cell_type": "code",
   "execution_count": 171,
   "metadata": {},
   "outputs": [
    {
     "data": {
      "text/plain": [
       "tensor([0.0000e+00, 0.0000e+00, 0.0000e+00, 0.0000e+00, 0.0000e+00, 0.0000e+00,\n",
       "        0.0000e+00, 0.0000e+00, 3.8750e-21, 6.4484e-02, 0.0000e+00, 0.0000e+00,\n",
       "        0.0000e+00, 0.0000e+00, 0.0000e+00, 0.0000e+00, 0.0000e+00, 1.1088e-07,\n",
       "        0.0000e+00, 0.0000e+00, 0.0000e+00, 0.0000e+00, 0.0000e+00, 0.0000e+00,\n",
       "        0.0000e+00, 0.0000e+00, 0.0000e+00, 0.0000e+00, 6.2893e-02, 0.0000e+00,\n",
       "        1.5900e-06, 4.4297e-27, 0.0000e+00, 6.6329e-17, 0.0000e+00, 0.0000e+00,\n",
       "        0.0000e+00, 0.0000e+00, 0.0000e+00, 0.0000e+00, 0.0000e+00, 0.0000e+00,\n",
       "        0.0000e+00, 0.0000e+00, 0.0000e+00, 0.0000e+00, 0.0000e+00, 0.0000e+00,\n",
       "        0.0000e+00, 0.0000e+00, 0.0000e+00, 0.0000e+00, 0.0000e+00, 0.0000e+00,\n",
       "        0.0000e+00, 7.4159e-01, 0.0000e+00, 0.0000e+00, 0.0000e+00, 0.0000e+00,\n",
       "        0.0000e+00, 0.0000e+00, 0.0000e+00, 0.0000e+00, 0.0000e+00, 0.0000e+00,\n",
       "        0.0000e+00, 0.0000e+00, 0.0000e+00, 0.0000e+00, 0.0000e+00, 0.0000e+00,\n",
       "        0.0000e+00, 0.0000e+00, 0.0000e+00, 0.0000e+00, 0.0000e+00, 0.0000e+00,\n",
       "        0.0000e+00, 0.0000e+00, 0.0000e+00, 0.0000e+00, 0.0000e+00, 0.0000e+00,\n",
       "        0.0000e+00, 0.0000e+00, 0.0000e+00, 0.0000e+00, 0.0000e+00, 0.0000e+00,\n",
       "        7.0342e-14, 0.0000e+00, 0.0000e+00, 0.0000e+00, 0.0000e+00, 0.0000e+00,\n",
       "        0.0000e+00, 0.0000e+00, 0.0000e+00, 0.0000e+00, 0.0000e+00, 0.0000e+00,\n",
       "        0.0000e+00, 0.0000e+00, 0.0000e+00, 0.0000e+00, 0.0000e+00, 1.5495e-02,\n",
       "        0.0000e+00, 0.0000e+00, 0.0000e+00, 0.0000e+00, 0.0000e+00, 0.0000e+00,\n",
       "        0.0000e+00, 0.0000e+00, 0.0000e+00, 0.0000e+00, 0.0000e+00, 0.0000e+00,\n",
       "        0.0000e+00, 0.0000e+00, 1.5625e-02, 0.0000e+00, 9.9910e-02, 0.0000e+00,\n",
       "        0.0000e+00, 0.0000e+00], grad_fn=<MvBackward0>)"
      ]
     },
     "execution_count": 171,
     "metadata": {},
     "output_type": "execute_result"
    }
   ],
   "source": [
    "torch.matmul(torch.transpose(K, 1, 0), u)"
   ]
  },
  {
   "cell_type": "code",
   "execution_count": 172,
   "metadata": {},
   "outputs": [
    {
     "data": {
      "text/plain": [
       "tensor([       inf,        inf,        inf,        inf,        inf,        inf,\n",
       "               inf,        inf, 2.0161e+18, 1.2115e-01,        inf,        inf,\n",
       "               inf,        inf,        inf,        inf,        inf, 7.0462e+04,\n",
       "               inf,        inf,        inf,        inf,        inf,        inf,\n",
       "               inf,        inf,        inf,        inf, 1.2422e-01,        inf,\n",
       "        4.9134e+03, 1.7636e+24,        inf, 1.1778e+14,        inf,        inf,\n",
       "               inf,        inf,        inf,        inf,        inf,        inf,\n",
       "               inf,        inf,        inf,        inf,        inf,        inf,\n",
       "               inf,        inf,        inf,        inf,        inf,        inf,\n",
       "               inf, 1.0535e-02,        inf,        inf,        inf,        inf,\n",
       "               inf,        inf,        inf,        inf,        inf,        inf,\n",
       "               inf,        inf,        inf,        inf,        inf,        inf,\n",
       "               inf,        inf,        inf,        inf,        inf,        inf,\n",
       "               inf,        inf,        inf,        inf,        inf,        inf,\n",
       "               inf,        inf,        inf,        inf,        inf,        inf,\n",
       "        1.1107e+11,        inf,        inf,        inf,        inf,        inf,\n",
       "               inf,        inf,        inf,        inf,        inf,        inf,\n",
       "               inf,        inf,        inf,        inf,        inf, 5.0421e-01,\n",
       "               inf,        inf,        inf,        inf,        inf,        inf,\n",
       "               inf,        inf,        inf,        inf,        inf,        inf,\n",
       "               inf,        inf, 5.0000e-01,        inf, 7.8195e-02,        inf,\n",
       "               inf,        inf], grad_fn=<DivBackward0>)"
      ]
     },
     "execution_count": 172,
     "metadata": {},
     "output_type": "execute_result"
    }
   ],
   "source": [
    "b / torch.matmul(torch.transpose(K, 1, 0), u)"
   ]
  },
  {
   "cell_type": "code",
   "execution_count": null,
   "metadata": {},
   "outputs": [],
   "source": []
  },
  {
   "cell_type": "code",
   "execution_count": null,
   "metadata": {},
   "outputs": [],
   "source": []
  }
 ],
 "metadata": {
  "kernelspec": {
   "display_name": "Python 3 (data-science)",
   "language": "python",
   "name": "data-science"
  },
  "language_info": {
   "codemirror_mode": {
    "name": "ipython",
    "version": 3
   },
   "file_extension": ".py",
   "mimetype": "text/x-python",
   "name": "python",
   "nbconvert_exporter": "python",
   "pygments_lexer": "ipython3",
   "version": "3.7.12"
  }
 },
 "nbformat": 4,
 "nbformat_minor": 4
}
