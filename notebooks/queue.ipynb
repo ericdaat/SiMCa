{
 "cells": [
  {
   "cell_type": "markdown",
   "metadata": {},
   "source": [
    "# Queue"
   ]
  },
  {
   "cell_type": "code",
   "execution_count": 1,
   "metadata": {},
   "outputs": [],
   "source": [
    "import os\n",
    "import sys\n",
    "\n",
    "sys.path.append(\"../\")"
   ]
  },
  {
   "cell_type": "code",
   "execution_count": 2,
   "metadata": {},
   "outputs": [],
   "source": [
    "import numpy as np\n",
    "from sklearn.datasets import make_blobs, make_moons, make_circles\n",
    "import seaborn as sns\n",
    "from matplotlib import pyplot as plt\n",
    "import torch\n",
    "from torch import nn, optim\n",
    "from torch.utils.data import Dataset, DataLoader\n",
    "from torch.autograd import Function\n",
    "from torchviz import make_dot\n",
    "\n",
    "from src.ml.sinkhorn import pot_sinkhorn, SinkhornValue"
   ]
  },
  {
   "cell_type": "code",
   "execution_count": 3,
   "metadata": {},
   "outputs": [],
   "source": [
    "sns.set(style=\"whitegrid\")"
   ]
  },
  {
   "cell_type": "code",
   "execution_count": 4,
   "metadata": {},
   "outputs": [],
   "source": [
    "device = torch.device(\"cuda\" if torch.cuda.is_available() else \"cpu\")"
   ]
  },
  {
   "cell_type": "markdown",
   "metadata": {},
   "source": [
    "## Dataset generation"
   ]
  },
  {
   "cell_type": "code",
   "execution_count": 5,
   "metadata": {},
   "outputs": [],
   "source": [
    "n_features = 512\n",
    "n_clusters = 128\n",
    "batch_size = 32\n",
    "n_samples = 2000"
   ]
  },
  {
   "cell_type": "code",
   "execution_count": 6,
   "metadata": {},
   "outputs": [],
   "source": [
    "class ToyDataset(Dataset):\n",
    "    def __init__(self, n_features, n_clusters, n_samples):\n",
    "        self.n_features = n_features\n",
    "        self.n_clusters = n_clusters\n",
    "        self.n_samples = n_samples\n",
    "    \n",
    "    def __len__(self):\n",
    "        return self.X.shape[0]\n",
    "\n",
    "    def __getitem__(self, idx):\n",
    "        return self.X[idx], self.y_true[idx]\n",
    "    \n",
    "    def plot(self):\n",
    "        fig, ax = plt.subplots(\n",
    "            nrows=1,\n",
    "            ncols=1,\n",
    "            figsize=(5, 5)\n",
    "        )\n",
    "\n",
    "        sns.scatterplot(  # plot first 2 components\n",
    "            x=self.X[:, 0],\n",
    "            y=self.X[:, 1],\n",
    "            hue=map(str, self.y_true),\n",
    "            ax=ax,\n",
    "            legend=False\n",
    "        )\n",
    "\n",
    "        ax.set_xlabel(\"Component 1\")\n",
    "        ax.set_ylabel(\"Component 2\")\n",
    "        ax.set_title(\"Clusters visualization\")\n",
    "\n",
    "        return fig\n",
    "\n",
    "\n",
    "class BlobsDataset(ToyDataset):\n",
    "    \"\"\"\n",
    "    https://scikit-learn.org/stable/modules/generated/sklearn.datasets.make_blobs.html\n",
    "    \"\"\"\n",
    "    def __init__(self, n_features, n_clusters, n_samples):\n",
    "        super().__init__(n_features, n_clusters, n_samples)\n",
    "        \n",
    "        X, y_true = make_blobs(\n",
    "            n_samples=n_samples,\n",
    "            n_features=n_features,\n",
    "            centers=n_clusters,\n",
    "            cluster_std=.8,\n",
    "            random_state=0\n",
    "        )\n",
    "        \n",
    "        self.X = torch.FloatTensor(X)\n",
    "        self.y_true = torch.LongTensor(y_true)"
   ]
  },
  {
   "cell_type": "code",
   "execution_count": 7,
   "metadata": {},
   "outputs": [],
   "source": [
    "dataset = BlobsDataset(n_features, n_clusters, n_samples)\n",
    "dataloader = DataLoader(dataset, batch_size=batch_size)"
   ]
  },
  {
   "cell_type": "markdown",
   "metadata": {},
   "source": [
    "## Model definition"
   ]
  },
  {
   "cell_type": "code",
   "execution_count": 8,
   "metadata": {},
   "outputs": [],
   "source": [
    "class Model(nn.Module):\n",
    "    def __init__(self, input_dim, output_dim):\n",
    "        super().__init__()\n",
    "        \n",
    "        self.mlp = nn.Sequential(\n",
    "            nn.Linear(input_dim, 256),\n",
    "            nn.ReLU(),\n",
    "            nn.Linear(256, output_dim),\n",
    "        )\n",
    "    \n",
    "    def forward(self, inputs):\n",
    "        mlp_out = self.mlp(inputs)\n",
    "        # mlp_out = nn.functional.normalize(mlp_out)  # TODO: In Caron et al. there is normalization here\n",
    "        softmax_out = nn.LogSoftmax(dim=1)(mlp_out)\n",
    "        \n",
    "        return softmax_out"
   ]
  },
  {
   "cell_type": "markdown",
   "metadata": {},
   "source": [
    "## Queue implementation\n",
    "\n",
    "- [x] stored_M (= previous batchs dans la queue)\n",
    "- [x] M = current batch\n",
    "- [x] tu rajoutes stored_M comme argument supplementaire à SinkhornValueFunc\n",
    "- [x] sinkhorn est execute sur M_full = concatenation de M et stored_M\n",
    "- [x] puis dans SinkhornValue tu implemente la logique de storer les M quand tu call la fonction, avec une logique de queue FIFO \n",
    "- [x] et pas besoin d'utiliser une queue pour cela, juste un tensor me semble suffisant, juste quand tu arrives à la limite de taille, pour inserer le nouveau batch, tu \"roll\" le tensor\n"
   ]
  },
  {
   "cell_type": "code",
   "execution_count": 9,
   "metadata": {},
   "outputs": [],
   "source": [
    "model = Model(\n",
    "    input_dim=n_features,\n",
    "    output_dim=n_clusters\n",
    ")"
   ]
  },
  {
   "cell_type": "code",
   "execution_count": 10,
   "metadata": {},
   "outputs": [
    {
     "name": "stderr",
     "output_type": "stream",
     "text": [
      "/Users/eric/Code/virtualenvs/data-science/lib/python3.7/site-packages/ot/bregman.py:723: UserWarning: Sinkhorn did not converge. You might want to increase the number of iterations `numItermax` or the regularization parameter `reg`.\n",
      "  warnings.warn(\"Sinkhorn did not converge. You might want to \"\n"
     ]
    },
    {
     "name": "stdout",
     "output_type": "stream",
     "text": [
      "Batch 0: torch.Size([32, 128])\n",
      "Batch 1: torch.Size([64, 128])\n",
      "Batch 2: torch.Size([64, 128])\n",
      "Batch 3: torch.Size([64, 128])\n",
      "Batch 4: torch.Size([64, 128])\n",
      "Batch 5: torch.Size([64, 128])\n",
      "Batch 6: torch.Size([64, 128])\n",
      "Batch 7: torch.Size([64, 128])\n",
      "Batch 8: torch.Size([64, 128])\n",
      "Batch 9: torch.Size([64, 128])\n",
      "Batch 10: torch.Size([64, 128])\n"
     ]
    }
   ],
   "source": [
    "stored_M = torch.Tensor()   # tensor acts as queue\n",
    "max_n_batches_in_queue = 2  # max number of batches in queue\n",
    "\n",
    "for batch_ix, (inputs, labels) in enumerate(dataloader):\n",
    "    # M is model output\n",
    "    M = model(nn.functional.normalize(inputs))\n",
    "    \n",
    "    #################\n",
    "    # Sinkhorn step #\n",
    "    #################\n",
    "    M_concat = torch.cat([M, stored_M])\n",
    "    \n",
    "    # Compute marginals\n",
    "    a = torch.ones(M_concat.shape[0])\n",
    "    b = torch.ones(M_concat.shape[1]) * (M.shape[0] / M.shape[1])\n",
    "    \n",
    "    # Compute sinkhorn\n",
    "    P = pot_sinkhorn(M_concat, a, b, epsilon=0.1, method=\"sinkhorn_log\")\n",
    "\n",
    "    ################ \n",
    "    # Update queue #\n",
    "    ################\n",
    "    \n",
    "    if max_n_batches_in_queue > 0:\n",
    "        # Update stored M\n",
    "        n_batches_in_queue = stored_M.shape[0] / batch_size\n",
    "        if  n_batches_in_queue < max_n_batches_in_queue:\n",
    "            # Append current batch to previous batches\n",
    "            stored_M = M_concat\n",
    "        else:\n",
    "            # Roll stored M, older batch comes first, replace it with M\n",
    "            stored_M = torch.roll(stored_M, batch_size, 0)  # roll, first batch is the oldest\n",
    "            stored_M[:batch_size, :] = M                    # update first batch with new one\n",
    "    \n",
    "    # Print for debug\n",
    "    print(\"Batch {0}: {1}\".format(batch_ix, stored_M.shape))\n",
    "    \n",
    "    if batch_ix == 10:\n",
    "        break"
   ]
  },
  {
   "cell_type": "markdown",
   "metadata": {},
   "source": [
    "## Queue integration"
   ]
  },
  {
   "cell_type": "code",
   "execution_count": 11,
   "metadata": {},
   "outputs": [],
   "source": [
    "# Define model\n",
    "model = Model(\n",
    "    input_dim=n_features,\n",
    "    output_dim=n_clusters\n",
    ")\n",
    "assert model.mlp[0].in_features == n_features\n",
    "assert model.mlp[-1].out_features == n_clusters\n",
    "\n",
    "\n",
    "# Define optimizer\n",
    "optimizer = torch.optim.SGD(model.parameters(), lr=0.001)\n",
    "\n",
    "\n",
    "# Define loss\n",
    "SV = SinkhornValue(\n",
    "    epsilon=.2,\n",
    "    solver=pot_sinkhorn,\n",
    "    max_n_batches_in_queue=2,\n",
    "    method=\"sinkhorn_log\",\n",
    "    numItermax=100,\n",
    "    warn=True\n",
    ")\n",
    "assert SV.solver == pot_sinkhorn\n",
    "assert SV.solver_options.get(\"method\") == \"sinkhorn_log\"\n",
    "assert SV.solver_options.get(\"numItermax\") == 100\n",
    "assert SV.solver_options.get(\"warn\") == True\n",
    "assert isinstance(SV.stored_M, torch.Tensor)\n",
    "assert SV.stored_M.shape[0] == 0\n",
    "\n",
    "\n",
    "# Input data\n",
    "X, y = next(iter(dataloader))\n",
    "X_norm = nn.functional.normalize(X)\n",
    "assert X_norm.shape == (batch_size, n_features)\n",
    "assert round(torch.norm(X_norm[1]).item(), ndigits=4) == 1.\n",
    "assert y.shape[0] == batch_size\n",
    "\n",
    "\n",
    "# Forward pass\n",
    "optimizer.zero_grad()\n",
    "M = model(X_norm)\n",
    "assert M.shape == (batch_size, n_clusters)\n",
    "assert all(torch.round(torch.exp(M).sum(axis=1)) == 1.)\n",
    "assert torch.exp(M).min() >= 0\n",
    "assert torch.exp(M).max() <= 1"
   ]
  },
  {
   "cell_type": "code",
   "execution_count": 16,
   "metadata": {},
   "outputs": [
    {
     "name": "stdout",
     "output_type": "stream",
     "text": [
      "tensor(0.7058, grad_fn=<SinkhornValueFuncBackward>)\n",
      "tensor(0.6620, grad_fn=<SinkhornValueFuncBackward>)\n",
      "tensor(0.6445, grad_fn=<SinkhornValueFuncBackward>)\n",
      "tensor(0.6633, grad_fn=<SinkhornValueFuncBackward>)\n",
      "tensor(0.5951, grad_fn=<SinkhornValueFuncBackward>)\n",
      "tensor(0.6299, grad_fn=<SinkhornValueFuncBackward>)\n",
      "tensor(0.6501, grad_fn=<SinkhornValueFuncBackward>)\n",
      "tensor(0.6440, grad_fn=<SinkhornValueFuncBackward>)\n",
      "tensor(0.6152, grad_fn=<SinkhornValueFuncBackward>)\n",
      "tensor(0.6101, grad_fn=<SinkhornValueFuncBackward>)\n",
      "tensor(0.6334, grad_fn=<SinkhornValueFuncBackward>)\n",
      "tensor(0.5632, grad_fn=<SinkhornValueFuncBackward>)\n",
      "tensor(0.6467, grad_fn=<SinkhornValueFuncBackward>)\n",
      "tensor(0.5376, grad_fn=<SinkhornValueFuncBackward>)\n",
      "tensor(0.6014, grad_fn=<SinkhornValueFuncBackward>)\n",
      "tensor(0.6307, grad_fn=<SinkhornValueFuncBackward>)\n",
      "tensor(0.6076, grad_fn=<SinkhornValueFuncBackward>)\n",
      "tensor(0.5707, grad_fn=<SinkhornValueFuncBackward>)\n",
      "tensor(0.5602, grad_fn=<SinkhornValueFuncBackward>)\n",
      "tensor(0.5591, grad_fn=<SinkhornValueFuncBackward>)\n",
      "tensor(0.4984, grad_fn=<SinkhornValueFuncBackward>)\n",
      "tensor(0.5475, grad_fn=<SinkhornValueFuncBackward>)\n",
      "tensor(0.5895, grad_fn=<SinkhornValueFuncBackward>)\n",
      "tensor(0.5728, grad_fn=<SinkhornValueFuncBackward>)\n",
      "tensor(0.5142, grad_fn=<SinkhornValueFuncBackward>)\n",
      "tensor(0.5082, grad_fn=<SinkhornValueFuncBackward>)\n",
      "tensor(0.5654, grad_fn=<SinkhornValueFuncBackward>)\n",
      "tensor(0.4721, grad_fn=<SinkhornValueFuncBackward>)\n",
      "tensor(0.5860, grad_fn=<SinkhornValueFuncBackward>)\n",
      "tensor(0.4230, grad_fn=<SinkhornValueFuncBackward>)\n",
      "tensor(0.5539, grad_fn=<SinkhornValueFuncBackward>)\n",
      "tensor(0.5925, grad_fn=<SinkhornValueFuncBackward>)\n",
      "tensor(0.5450, grad_fn=<SinkhornValueFuncBackward>)\n",
      "tensor(0.5185, grad_fn=<SinkhornValueFuncBackward>)\n",
      "tensor(0.5251, grad_fn=<SinkhornValueFuncBackward>)\n",
      "tensor(0.4872, grad_fn=<SinkhornValueFuncBackward>)\n",
      "tensor(0.4260, grad_fn=<SinkhornValueFuncBackward>)\n",
      "tensor(0.4888, grad_fn=<SinkhornValueFuncBackward>)\n",
      "tensor(0.5469, grad_fn=<SinkhornValueFuncBackward>)\n",
      "tensor(0.5352, grad_fn=<SinkhornValueFuncBackward>)\n",
      "tensor(0.4471, grad_fn=<SinkhornValueFuncBackward>)\n",
      "tensor(0.4600, grad_fn=<SinkhornValueFuncBackward>)\n",
      "tensor(0.5038, grad_fn=<SinkhornValueFuncBackward>)\n",
      "tensor(0.4202, grad_fn=<SinkhornValueFuncBackward>)\n",
      "tensor(0.5298, grad_fn=<SinkhornValueFuncBackward>)\n"
     ]
    }
   ],
   "source": [
    "SV = SinkhornValue(\n",
    "    epsilon=0.5,\n",
    "    solver=pot_sinkhorn,\n",
    "    max_n_batches_in_queue=3,\n",
    "    n_iter=100,\n",
    "    stopThr=1e-02,\n",
    "    # numItermax=400\n",
    ")\n",
    "\n",
    "for epoch in range(3):\n",
    "    for batch_ix, (inputs, labels) in enumerate(dataloader):\n",
    "        outputs = model(inputs)\n",
    "\n",
    "        loss = SV(-outputs)\n",
    "        \n",
    "        if SV.max_n_batches_in_queue > 0:\n",
    "            SV.update_queue(-outputs)\n",
    "\n",
    "        if not SV.queue_is_full:\n",
    "            continue\n",
    "\n",
    "        loss.backward()\n",
    "        optimizer.step()\n",
    "\n",
    "        print(loss)\n",
    "\n",
    "        if batch_ix == 15:\n",
    "            break"
   ]
  },
  {
   "cell_type": "code",
   "execution_count": 13,
   "metadata": {},
   "outputs": [
    {
     "data": {
      "text/plain": [
       "False"
      ]
     },
     "execution_count": 13,
     "metadata": {},
     "output_type": "execute_result"
    }
   ],
   "source": [
    "SV.queue_is_full"
   ]
  },
  {
   "cell_type": "code",
   "execution_count": 14,
   "metadata": {},
   "outputs": [
    {
     "data": {
      "text/plain": [
       "tensor([])"
      ]
     },
     "execution_count": 14,
     "metadata": {},
     "output_type": "execute_result"
    }
   ],
   "source": [
    "SV.stored_M"
   ]
  },
  {
   "cell_type": "code",
   "execution_count": null,
   "metadata": {},
   "outputs": [],
   "source": [
    "# computational graph\n",
    "make_dot(M, params=dict(list(model.named_parameters())))"
   ]
  },
  {
   "cell_type": "code",
   "execution_count": null,
   "metadata": {},
   "outputs": [],
   "source": []
  }
 ],
 "metadata": {
  "interpreter": {
   "hash": "35e7e15e99ced0a59866f00000561dd568615f64817c6500270e1aee9e906325"
  },
  "kernelspec": {
   "display_name": "Python 3 (data-science)",
   "language": "python",
   "name": "data-science"
  },
  "language_info": {
   "codemirror_mode": {
    "name": "ipython",
    "version": 3
   },
   "file_extension": ".py",
   "mimetype": "text/x-python",
   "name": "python",
   "nbconvert_exporter": "python",
   "pygments_lexer": "ipython3",
   "version": "3.7.12"
  }
 },
 "nbformat": 4,
 "nbformat_minor": 4
}
