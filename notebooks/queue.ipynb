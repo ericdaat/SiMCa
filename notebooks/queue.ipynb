{
 "cells": [
  {
   "cell_type": "markdown",
   "metadata": {},
   "source": [
    "# Queue"
   ]
  },
  {
   "cell_type": "code",
   "execution_count": 1,
   "metadata": {},
   "outputs": [],
   "source": [
    "import os\n",
    "import sys\n",
    "\n",
    "sys.path.append(\"../\")"
   ]
  },
  {
   "cell_type": "code",
   "execution_count": 2,
   "metadata": {},
   "outputs": [],
   "source": [
    "import numpy as np\n",
    "from sklearn.datasets import make_blobs, make_moons, make_circles\n",
    "import seaborn as sns\n",
    "from matplotlib import pyplot as plt\n",
    "import torch\n",
    "from torch import nn, optim\n",
    "from torch.utils.data import Dataset, DataLoader\n",
    "from torch.autograd import Function\n",
    "from torchviz import make_dot\n",
    "\n",
    "from src.ml.sinkhorn import pot_sinkhorn, SinkhornValue"
   ]
  },
  {
   "cell_type": "code",
   "execution_count": 3,
   "metadata": {},
   "outputs": [],
   "source": [
    "sns.set(style=\"whitegrid\")"
   ]
  },
  {
   "cell_type": "code",
   "execution_count": 4,
   "metadata": {},
   "outputs": [],
   "source": [
    "device = torch.device(\"cuda\" if torch.cuda.is_available() else \"cpu\")"
   ]
  },
  {
   "cell_type": "markdown",
   "metadata": {},
   "source": [
    "## Dataset generation"
   ]
  },
  {
   "cell_type": "code",
   "execution_count": 5,
   "metadata": {},
   "outputs": [],
   "source": [
    "in_features = 512\n",
    "out_features = 256\n",
    "n_clusters = 10\n",
    "batch_size = 128\n",
    "n_samples = 2000"
   ]
  },
  {
   "cell_type": "code",
   "execution_count": 6,
   "metadata": {},
   "outputs": [],
   "source": [
    "class ToyDataset(Dataset):\n",
    "    def __init__(self, n_features, n_clusters, n_samples):\n",
    "        self.n_features = n_features\n",
    "        self.n_clusters = n_clusters\n",
    "        self.n_samples = n_samples\n",
    "    \n",
    "    def __len__(self):\n",
    "        return self.X.shape[0]\n",
    "\n",
    "    def __getitem__(self, idx):\n",
    "        return self.X[idx], self.y_true[idx]\n",
    "    \n",
    "    def plot(self):\n",
    "        fig, ax = plt.subplots(\n",
    "            nrows=1,\n",
    "            ncols=1,\n",
    "            figsize=(5, 5)\n",
    "        )\n",
    "\n",
    "        sns.scatterplot(  # plot first 2 components\n",
    "            x=self.X[:, 0],\n",
    "            y=self.X[:, 1],\n",
    "            hue=map(str, self.y_true),\n",
    "            ax=ax,\n",
    "            legend=False\n",
    "        )\n",
    "\n",
    "        ax.set_xlabel(\"Component 1\")\n",
    "        ax.set_ylabel(\"Component 2\")\n",
    "        ax.set_title(\"Clusters visualization\")\n",
    "\n",
    "        return fig\n",
    "\n",
    "\n",
    "class BlobsDataset(ToyDataset):\n",
    "    \"\"\"\n",
    "    https://scikit-learn.org/stable/modules/generated/sklearn.datasets.make_blobs.html\n",
    "    \"\"\"\n",
    "    def __init__(self, n_features, n_clusters, n_samples):\n",
    "        super().__init__(n_features, n_clusters, n_samples)\n",
    "        \n",
    "        X, y_true = make_blobs(\n",
    "            n_samples=n_samples,\n",
    "            n_features=n_features,\n",
    "            centers=n_clusters,\n",
    "            cluster_std=.8,\n",
    "            random_state=0\n",
    "        )\n",
    "        \n",
    "        self.X = torch.FloatTensor(X)\n",
    "        self.y_true = torch.LongTensor(y_true)"
   ]
  },
  {
   "cell_type": "code",
   "execution_count": 7,
   "metadata": {},
   "outputs": [],
   "source": [
    "from sklearn.model_selection import train_test_split"
   ]
  },
  {
   "cell_type": "code",
   "execution_count": 8,
   "metadata": {},
   "outputs": [],
   "source": [
    "dataset = BlobsDataset(in_features, n_clusters, n_samples)\n",
    "\n",
    "train_set, val_set = torch.utils.data.random_split(dataset, [1500, 500])"
   ]
  },
  {
   "cell_type": "code",
   "execution_count": 26,
   "metadata": {},
   "outputs": [],
   "source": [
    "dataloader = DataLoader(train_set, batch_size=batch_size, drop_last=True)\n",
    "dataloader_val = DataLoader(val_set, batch_size=1000, drop_last=False)"
   ]
  },
  {
   "cell_type": "markdown",
   "metadata": {},
   "source": [
    "## Model definition"
   ]
  },
  {
   "cell_type": "code",
   "execution_count": 27,
   "metadata": {},
   "outputs": [],
   "source": [
    "class Model(nn.Module):\n",
    "    def __init__(self, input_dim, output_dim):\n",
    "        super().__init__()\n",
    "        \n",
    "        self.mlp = nn.Sequential(\n",
    "            nn.Linear(input_dim, 256),\n",
    "            nn.ReLU(),\n",
    "            nn.Linear(256, output_dim),\n",
    "        )\n",
    "    \n",
    "    def forward(self, inputs, return_features=False):\n",
    "        mlp_out = self.mlp(inputs)\n",
    "        softmax_out = nn.LogSoftmax(dim=1)(mlp_out)\n",
    "        \n",
    "        if return_features:\n",
    "            return mlp_out\n",
    "        else:\n",
    "            return softmax_out"
   ]
  },
  {
   "cell_type": "markdown",
   "metadata": {},
   "source": [
    "## Queue integration"
   ]
  },
  {
   "cell_type": "code",
   "execution_count": 34,
   "metadata": {},
   "outputs": [],
   "source": [
    "# Define model\n",
    "model = Model(\n",
    "    input_dim=in_features,\n",
    "    output_dim=out_features\n",
    ")\n",
    "assert model.mlp[0].in_features == in_features\n",
    "assert model.mlp[-1].out_features == out_features\n",
    "\n",
    "\n",
    "# Define optimizer\n",
    "optimizer = torch.optim.SGD(model.parameters(), lr=0.001)\n",
    "\n",
    "\n",
    "# Define loss\n",
    "SV = SinkhornValue(\n",
    "    epsilon=.2,\n",
    "    solver=pot_sinkhorn,\n",
    "    max_n_batches_in_queue=2,\n",
    "    method=\"sinkhorn_log\",\n",
    "    numItermax=100,\n",
    "    warn=True\n",
    ")\n",
    "assert SV.solver == pot_sinkhorn\n",
    "assert SV.solver_options.get(\"method\") == \"sinkhorn_log\"\n",
    "assert SV.solver_options.get(\"numItermax\") == 100\n",
    "assert SV.solver_options.get(\"warn\") == True\n",
    "assert isinstance(SV.stored_M, torch.Tensor)\n",
    "assert SV.stored_M.shape[0] == 0\n",
    "\n",
    "\n",
    "# Input data\n",
    "X, y = next(iter(dataloader))\n",
    "X_norm = nn.functional.normalize(X)\n",
    "assert X_norm.shape == (batch_size, in_features)\n",
    "assert round(torch.norm(X_norm[1]).item(), ndigits=4) == 1.\n",
    "assert y.shape[0] == batch_size\n",
    "\n",
    "\n",
    "# Forward pass\n",
    "optimizer.zero_grad()\n",
    "M = model(X_norm)\n",
    "assert M.shape == (batch_size, out_features)\n",
    "assert all(torch.round(torch.exp(M).sum(axis=1)) == 1.)\n",
    "assert torch.exp(M).min() >= 0\n",
    "assert torch.exp(M).max() <= 1"
   ]
  },
  {
   "cell_type": "code",
   "execution_count": 35,
   "metadata": {},
   "outputs": [
    {
     "name": "stdout",
     "output_type": "stream",
     "text": [
      "Epoch 1: 4.420969356190074\n",
      "Epoch 2: 3.980233582583341\n",
      "Epoch 3: 3.721419854597612\n",
      "Epoch 4: 3.563913280313665\n",
      "Epoch 5: 3.4498187628659336\n",
      "Epoch 6: 3.3855877139351587\n",
      "Epoch 7: 3.3369964469562876\n",
      "Epoch 8: 3.303353959863836\n",
      "Epoch 9: 3.2776683243838223\n",
      "Epoch 10: 3.2549408132379707\n"
     ]
    }
   ],
   "source": [
    "SV = SinkhornValue(\n",
    "    epsilon=0.1,\n",
    "    solver=pot_sinkhorn,\n",
    "    max_n_batches_in_queue=0,\n",
    "    stopThr=1e-02,\n",
    "    method=\"sinkhorn_log\",\n",
    "    # numItermax=400\n",
    ")\n",
    "\n",
    "for epoch in range(10):\n",
    "    epoch_loss = 0\n",
    "    optimizer.zero_grad()\n",
    "    \n",
    "    for batch_ix, (inputs, labels) in enumerate(dataloader):\n",
    "        if inputs.shape[0] != batch_size:\n",
    "            continue\n",
    "            \n",
    "        outputs = model(inputs)\n",
    "        loss = SV(-outputs)\n",
    "\n",
    "        loss.backward()\n",
    "        optimizer.step()\n",
    "        \n",
    "        epoch_loss += loss.item()\n",
    "        \n",
    "    print(\"Epoch {0}: {1}\".format(epoch+1, epoch_loss / (batch_ix+1)))"
   ]
  },
  {
   "cell_type": "markdown",
   "metadata": {},
   "source": [
    "## Classifier"
   ]
  },
  {
   "cell_type": "code",
   "execution_count": 36,
   "metadata": {},
   "outputs": [],
   "source": [
    "from sklearn.linear_model import LogisticRegression\n",
    "from sklearn.metrics import accuracy_score"
   ]
  },
  {
   "cell_type": "code",
   "execution_count": 37,
   "metadata": {},
   "outputs": [],
   "source": [
    "for batch_ix, (inputs, labels) in enumerate(dataloader_val):\n",
    "    break"
   ]
  },
  {
   "cell_type": "code",
   "execution_count": 38,
   "metadata": {},
   "outputs": [],
   "source": [
    "X = model(inputs, True).data.numpy()\n",
    "y = labels.data.numpy()\n",
    "\n",
    "clf = LogisticRegression()\n",
    "clf.fit(X, y)\n",
    "\n",
    "y_pred = clf.predict(X)"
   ]
  },
  {
   "cell_type": "code",
   "execution_count": 39,
   "metadata": {},
   "outputs": [
    {
     "data": {
      "text/plain": [
       "1.0"
      ]
     },
     "execution_count": 39,
     "metadata": {},
     "output_type": "execute_result"
    }
   ],
   "source": [
    "accuracy_score(y, y_pred)"
   ]
  },
  {
   "cell_type": "code",
   "execution_count": null,
   "metadata": {},
   "outputs": [],
   "source": []
  }
 ],
 "metadata": {
  "interpreter": {
   "hash": "35e7e15e99ced0a59866f00000561dd568615f64817c6500270e1aee9e906325"
  },
  "kernelspec": {
   "display_name": "Python 3 (data-science)",
   "language": "python",
   "name": "data-science"
  },
  "language_info": {
   "codemirror_mode": {
    "name": "ipython",
    "version": 3
   },
   "file_extension": ".py",
   "mimetype": "text/x-python",
   "name": "python",
   "nbconvert_exporter": "python",
   "pygments_lexer": "ipython3",
   "version": "3.7.12"
  },
  "toc-autonumbering": true
 },
 "nbformat": 4,
 "nbformat_minor": 4
}
